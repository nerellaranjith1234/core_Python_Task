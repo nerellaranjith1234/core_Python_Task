{
 "cells": [
  {
   "cell_type": "code",
   "execution_count": 29,
   "metadata": {},
   "outputs": [
    {
     "name": "stdout",
     "output_type": "stream",
     "text": [
      "Enter First number:4\n",
      "Enter Second number:4\n",
      "enter for operation:1=addition,2=Sub,3=mult,4=Div5\n",
      "Enter proper number:\n"
     ]
    }
   ],
   "source": [
    "# adding \n",
    "num1=int(input(\"Enter First number:\"))\n",
    "num2=int(input(\"Enter Second number:\"))\n",
    "ope=int(input(\"enter for operation:1=addition,2=Sub,3=mult,4=Div\"))\n",
    "if(ope==1):\n",
    "    print(\"sum of {} and {} is  {} \".format(num1,num2,num1+num2))\n",
    "        \n",
    "elif(ope==2):\n",
    "        if(num1>num2):\n",
    "             print(\"sub of {} and {} is {} \".format(num1,num2,num1-num2))\n",
    "        else:\n",
    "            print(num2-num1)\n",
    "elif(ope==3):\n",
    "         print(\"Mult of {} and {} is {} \".format(num1,num2,num1*num2))\n",
    "elif(ope==4):\n",
    "    if(num1>num2):\n",
    "             print(\"division of {} and {} is {} \".format(num1,num2,num1/num2))\n",
    "    else:\n",
    "            print(\"division of {} and {} is {} \".format(num2,num1,num2/num1))\n",
    "         \n",
    "else:\n",
    "        print(\"Enter proper number:\")\n",
    "        "
   ]
  },
  {
   "cell_type": "code",
   "execution_count": null,
   "metadata": {},
   "outputs": [],
   "source": []
  },
  {
   "cell_type": "markdown",
   "metadata": {},
   "source": []
  },
  {
   "cell_type": "code",
   "execution_count": null,
   "metadata": {},
   "outputs": [],
   "source": []
  },
  {
   "cell_type": "code",
   "execution_count": null,
   "metadata": {},
   "outputs": [],
   "source": []
  },
  {
   "cell_type": "code",
   "execution_count": null,
   "metadata": {},
   "outputs": [],
   "source": []
  },
  {
   "cell_type": "code",
   "execution_count": null,
   "metadata": {},
   "outputs": [],
   "source": []
  },
  {
   "cell_type": "code",
   "execution_count": null,
   "metadata": {},
   "outputs": [],
   "source": []
  },
  {
   "cell_type": "code",
   "execution_count": null,
   "metadata": {},
   "outputs": [],
   "source": []
  },
  {
   "cell_type": "code",
   "execution_count": null,
   "metadata": {},
   "outputs": [],
   "source": []
  },
  {
   "cell_type": "code",
   "execution_count": null,
   "metadata": {},
   "outputs": [],
   "source": []
  },
  {
   "cell_type": "code",
   "execution_count": null,
   "metadata": {},
   "outputs": [],
   "source": []
  },
  {
   "cell_type": "code",
   "execution_count": null,
   "metadata": {},
   "outputs": [],
   "source": []
  },
  {
   "cell_type": "code",
   "execution_count": null,
   "metadata": {},
   "outputs": [],
   "source": []
  },
  {
   "cell_type": "code",
   "execution_count": null,
   "metadata": {},
   "outputs": [],
   "source": []
  },
  {
   "cell_type": "code",
   "execution_count": null,
   "metadata": {},
   "outputs": [],
   "source": []
  },
  {
   "cell_type": "code",
   "execution_count": null,
   "metadata": {},
   "outputs": [],
   "source": []
  }
 ],
 "metadata": {
  "kernelspec": {
   "display_name": "Python 3",
   "language": "python",
   "name": "python3"
  },
  "language_info": {
   "codemirror_mode": {
    "name": "ipython",
    "version": 3
   },
   "file_extension": ".py",
   "mimetype": "text/x-python",
   "name": "python",
   "nbconvert_exporter": "python",
   "pygments_lexer": "ipython3",
   "version": "3.8.3"
  }
 },
 "nbformat": 4,
 "nbformat_minor": 4
}
