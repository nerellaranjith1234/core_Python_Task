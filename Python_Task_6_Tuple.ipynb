{
 "cells": [
  {
   "cell_type": "code",
   "execution_count": 2,
   "metadata": {},
   "outputs": [
    {
     "name": "stdout",
     "output_type": "stream",
     "text": [
      "[1, 23, 4, 6, 7, 8, 9]\n",
      "(1, 23, 4, 6, 7, 8, 9, 10)\n"
     ]
    }
   ],
   "source": [
    "# Adding an element to the tuple...\n",
    "tup1=(1,23,4,6,7,8,9)\n",
    "list1=list(tup1)\n",
    "print(list1)  \n",
    "list1.append(10)\n",
    "list1 # updated list\n",
    "tup2=tuple(list1)  # converting list to tuple..\n",
    "print(tup2)  # "
   ]
  },
  {
   "cell_type": "code",
   "execution_count": 8,
   "metadata": {},
   "outputs": [
    {
     "name": "stdout",
     "output_type": "stream",
     "text": [
      "[1, 23, 6, 7, 8, 9, 10]\n",
      "Tuple after deleting an element=(1, 23, 6, 7, 8, 9, 10) \n"
     ]
    }
   ],
   "source": [
    "#removing an element from tuple..\n",
    "\n",
    "list2=list(tup2)\n",
    "list2\n",
    "c=list2.pop(2)\n",
    "print(list2)\n",
    "\n",
    "tup3=tuple(list2)\n",
    "\n",
    "print(\"Tuple after deleting an element={} \".format(tup3))"
   ]
  },
  {
   "cell_type": "code",
   "execution_count": null,
   "metadata": {},
   "outputs": [],
   "source": []
  }
 ],
 "metadata": {
  "kernelspec": {
   "display_name": "Python 3",
   "language": "python",
   "name": "python3"
  },
  "language_info": {
   "codemirror_mode": {
    "name": "ipython",
    "version": 3
   },
   "file_extension": ".py",
   "mimetype": "text/x-python",
   "name": "python",
   "nbconvert_exporter": "python",
   "pygments_lexer": "ipython3",
   "version": "3.8.3"
  }
 },
 "nbformat": 4,
 "nbformat_minor": 2
}
